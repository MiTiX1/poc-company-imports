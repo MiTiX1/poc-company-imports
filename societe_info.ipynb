{
 "cells": [
  {
   "cell_type": "code",
   "execution_count": 1,
   "metadata": {},
   "outputs": [],
   "source": [
    "import requests\n",
    "import json\n",
    "import os \n",
    "\n",
    "import polars as pl\n",
    "\n",
    "from tqdm import tqdm"
   ]
  },
  {
   "cell_type": "code",
   "execution_count": 105,
   "metadata": {},
   "outputs": [],
   "source": [
    "API_KEY = \"9278o0hrad85ouh3dhl7idcd6r7mvn4f12ek2q4d5b6b5upnj48\"\n",
    "API = \"https://societeinfo.com/app/rest/api/v2/company.json\"\n",
    "FILE_SAMPLE = f\"./samples/siren_samples.csv\"\n",
    "FILE_RES = f\"./results/societeinfo_siren.csv\""
   ]
  },
  {
   "cell_type": "code",
   "execution_count": 8,
   "metadata": {},
   "outputs": [
    {
     "name": "stdout",
     "output_type": "stream",
     "text": [
      "shape: (9, 5)\n",
      "┌────────────┬──────────────────────────────┬────────────┬───────────┬─────────────────────────────┐\n",
      "│ statistic  ┆ linkedin_url                 ┆ input_name ┆ siren     ┆ website                     │\n",
      "│ ---        ┆ ---                          ┆ ---        ┆ ---       ┆ ---                         │\n",
      "│ str        ┆ str                          ┆ str        ┆ str       ┆ str                         │\n",
      "╞════════════╪══════════════════════════════╪════════════╪═══════════╪═════════════════════════════╡\n",
      "│ count      ┆ 117                          ┆ 117        ┆ 117       ┆ 117                         │\n",
      "│ null_count ┆ 0                            ┆ 0          ┆ 0         ┆ 0                           │\n",
      "│ mean       ┆ null                         ┆ null       ┆ null      ┆ null                        │\n",
      "│ std        ┆ null                         ┆ null       ┆ null      ┆ null                        │\n",
      "│ min        ┆ https://www.linkedin.com/com ┆ ACOME      ┆ 301374922 ┆ http://chantiers-atlantique │\n",
      "│            ┆ pany…                        ┆            ┆           ┆ .com                        │\n",
      "│ 25%        ┆ null                         ┆ null       ┆ null      ┆ null                        │\n",
      "│ 50%        ┆ null                         ┆ null       ┆ null      ┆ null                        │\n",
      "│ 75%        ┆ null                         ┆ null       ┆ null      ┆ null                        │\n",
      "│ max        ┆ https://www.linkedin.com/sho ┆ YNSECT     ┆ 967504697 ┆ https://www.ynsect.com/fr/  │\n",
      "│            ┆ wcas…                        ┆            ┆           ┆                             │\n",
      "└────────────┴──────────────────────────────┴────────────┴───────────┴─────────────────────────────┘\n"
     ]
    }
   ],
   "source": [
    "df = pl.read_csv(FILE_SAMPLE)\n",
    "df = df.cast({\"siren\": pl.String})\n",
    "print(df.describe())"
   ]
  },
  {
   "cell_type": "code",
   "execution_count": 9,
   "metadata": {},
   "outputs": [],
   "source": [
    "def send_request(siren: str) -> dict:\n",
    "    res = requests.get(f\"{API}/{siren}\", params={\"key\": API_KEY}, timeout=10)\n",
    "    if res.status_code != 200:\n",
    "        return {}\n",
    "    \n",
    "    try:\n",
    "        data = res.content\n",
    "        return json.loads(data)\n",
    "    except:\n",
    "        return {}"
   ]
  },
  {
   "cell_type": "code",
   "execution_count": 97,
   "metadata": {},
   "outputs": [
    {
     "name": "stdout",
     "output_type": "stream",
     "text": [
      "3\n"
     ]
    }
   ],
   "source": [
    "companies = []\n",
    "for company in df.rows()[114:]:\n",
    "    linkedin_url, input_name, siren, website = company\n",
    "    \n",
    "    data = send_request(siren)\n",
    "    linkedin_url_found = data.get(\"result\", {}).get(\"web_infos\", {}).get(\"linkedin\", {}).get(\"url\")\n",
    "\n",
    "    linkedin_id_found = None\n",
    "    if linkedin_url_found:\n",
    "        linkedin_id_found = linkedin_url_found.strip(\"/\").split(\"/\")[-1].lower()\n",
    "\n",
    "    companies.append({\n",
    "        \"linkedin_url\": linkedin_url,\n",
    "        \"input_name\": input_name,\n",
    "        \"siren\": siren,\n",
    "        \"website\": website,\n",
    "        \"linkedin_id_found\": linkedin_id_found\n",
    "    })\n",
    "\n",
    "print(len(companies))"
   ]
  },
  {
   "cell_type": "code",
   "execution_count": 98,
   "metadata": {},
   "outputs": [
    {
     "data": {
      "text/html": [
       "<div><style>\n",
       ".dataframe > thead > tr,\n",
       ".dataframe > tbody > tr {\n",
       "  text-align: right;\n",
       "  white-space: pre-wrap;\n",
       "}\n",
       "</style>\n",
       "<small>shape: (9, 6)</small><table border=\"1\" class=\"dataframe\"><thead><tr><th>statistic</th><th>linkedin_url</th><th>input_name</th><th>siren</th><th>website</th><th>linkedin_id_found</th></tr><tr><td>str</td><td>str</td><td>str</td><td>str</td><td>str</td><td>str</td></tr></thead><tbody><tr><td>&quot;count&quot;</td><td>&quot;3&quot;</td><td>&quot;3&quot;</td><td>&quot;3&quot;</td><td>&quot;3&quot;</td><td>&quot;3&quot;</td></tr><tr><td>&quot;null_count&quot;</td><td>&quot;0&quot;</td><td>&quot;0&quot;</td><td>&quot;0&quot;</td><td>&quot;0&quot;</td><td>&quot;0&quot;</td></tr><tr><td>&quot;mean&quot;</td><td>null</td><td>null</td><td>null</td><td>null</td><td>null</td></tr><tr><td>&quot;std&quot;</td><td>null</td><td>null</td><td>null</td><td>null</td><td>null</td></tr><tr><td>&quot;min&quot;</td><td>&quot;https://www.li…</td><td>&quot;Alsapan&quot;</td><td>&quot;333916385&quot;</td><td>&quot;http://www.als…</td><td>&quot;alsapan-indust…</td></tr><tr><td>&quot;25%&quot;</td><td>null</td><td>null</td><td>null</td><td>null</td><td>null</td></tr><tr><td>&quot;50%&quot;</td><td>null</td><td>null</td><td>null</td><td>null</td><td>null</td></tr><tr><td>&quot;75%&quot;</td><td>null</td><td>null</td><td>null</td><td>null</td><td>null</td></tr><tr><td>&quot;max&quot;</td><td>&quot;https://www.li…</td><td>&quot;SNCF&quot;</td><td>&quot;552049447&quot;</td><td>&quot;https://www.ei…</td><td>&quot;sncf-immobilie…</td></tr></tbody></table></div>"
      ],
      "text/plain": [
       "shape: (9, 6)\n",
       "┌────────────┬────────────────────┬────────────┬───────────┬───────────────────┬───────────────────┐\n",
       "│ statistic  ┆ linkedin_url       ┆ input_name ┆ siren     ┆ website           ┆ linkedin_id_found │\n",
       "│ ---        ┆ ---                ┆ ---        ┆ ---       ┆ ---               ┆ ---               │\n",
       "│ str        ┆ str                ┆ str        ┆ str       ┆ str               ┆ str               │\n",
       "╞════════════╪════════════════════╪════════════╪═══════════╪═══════════════════╪═══════════════════╡\n",
       "│ count      ┆ 3                  ┆ 3          ┆ 3         ┆ 3                 ┆ 3                 │\n",
       "│ null_count ┆ 0                  ┆ 0          ┆ 0         ┆ 0                 ┆ 0                 │\n",
       "│ mean       ┆ null               ┆ null       ┆ null      ┆ null              ┆ null              │\n",
       "│ std        ┆ null               ┆ null       ┆ null      ┆ null              ┆ null              │\n",
       "│ min        ┆ https://www.linked ┆ Alsapan    ┆ 333916385 ┆ http://www.alsapa ┆ alsapan-industrie │\n",
       "│            ┆ in.com/company…    ┆            ┆           ┆ n.com             ┆                   │\n",
       "│ 25%        ┆ null               ┆ null       ┆ null      ┆ null              ┆ null              │\n",
       "│ 50%        ┆ null               ┆ null       ┆ null      ┆ null              ┆ null              │\n",
       "│ 75%        ┆ null               ┆ null       ┆ null      ┆ null              ┆ null              │\n",
       "│ max        ┆ https://www.linked ┆ SNCF       ┆ 552049447 ┆ https://www.eiffa ┆ sncf-immobilier   │\n",
       "│            ┆ in.com/company…    ┆            ┆           ┆ gemetal.com/      ┆                   │\n",
       "└────────────┴────────────────────┴────────────┴───────────┴───────────────────┴───────────────────┘"
      ]
     },
     "execution_count": 98,
     "metadata": {},
     "output_type": "execute_result"
    }
   ],
   "source": [
    "df_companies = pl.DataFrame(companies)\n",
    "df_companies.describe()"
   ]
  },
  {
   "cell_type": "code",
   "execution_count": 99,
   "metadata": {},
   "outputs": [],
   "source": [
    "def compare_linkedin_ids(df: pl.DataFrame) -> pl.DataFrame:\n",
    "    success = []\n",
    "    for company in df.rows(named=True):\n",
    "        url = company.get(\"linkedin_url\")\n",
    "        url = url.strip(\"/\")\n",
    "        linkedin_id = url.split(\"/\")[-1].lower()\n",
    "        success.append(linkedin_id == company.get(\"linkedin_id_found\"))\n",
    "\n",
    "    serie = pl.Series(\"success\", success)\n",
    "    return df.with_columns(serie)"
   ]
  },
  {
   "cell_type": "code",
   "execution_count": 100,
   "metadata": {},
   "outputs": [
    {
     "data": {
      "text/html": [
       "<div><style>\n",
       ".dataframe > thead > tr,\n",
       ".dataframe > tbody > tr {\n",
       "  text-align: right;\n",
       "  white-space: pre-wrap;\n",
       "}\n",
       "</style>\n",
       "<small>shape: (3, 6)</small><table border=\"1\" class=\"dataframe\"><thead><tr><th>linkedin_url</th><th>input_name</th><th>siren</th><th>website</th><th>linkedin_id_found</th><th>success</th></tr><tr><td>str</td><td>str</td><td>str</td><td>str</td><td>str</td><td>bool</td></tr></thead><tbody><tr><td>&quot;https://www.li…</td><td>&quot;SNCF&quot;</td><td>&quot;552049447&quot;</td><td>&quot;http://www.snc…</td><td>&quot;sncf-immobilie…</td><td>false</td></tr><tr><td>&quot;https://www.li…</td><td>&quot;Alsapan&quot;</td><td>&quot;392213146&quot;</td><td>&quot;http://www.als…</td><td>&quot;alsapan-indust…</td><td>false</td></tr><tr><td>&quot;https://www.li…</td><td>&quot;Eiffage Metal&quot;</td><td>&quot;333916385&quot;</td><td>&quot;https://www.ei…</td><td>&quot;eiffage-metal&quot;</td><td>true</td></tr></tbody></table></div>"
      ],
      "text/plain": [
       "shape: (3, 6)\n",
       "┌────────────────────┬───────────────┬───────────┬───────────────────┬───────────────────┬─────────┐\n",
       "│ linkedin_url       ┆ input_name    ┆ siren     ┆ website           ┆ linkedin_id_found ┆ success │\n",
       "│ ---                ┆ ---           ┆ ---       ┆ ---               ┆ ---               ┆ ---     │\n",
       "│ str                ┆ str           ┆ str       ┆ str               ┆ str               ┆ bool    │\n",
       "╞════════════════════╪═══════════════╪═══════════╪═══════════════════╪═══════════════════╪═════════╡\n",
       "│ https://www.linked ┆ SNCF          ┆ 552049447 ┆ http://www.sncf.c ┆ sncf-immobilier   ┆ false   │\n",
       "│ in.com/company…    ┆               ┆           ┆ om                ┆                   ┆         │\n",
       "│ https://www.linked ┆ Alsapan       ┆ 392213146 ┆ http://www.alsapa ┆ alsapan-industrie ┆ false   │\n",
       "│ in.com/company…    ┆               ┆           ┆ n.com             ┆                   ┆         │\n",
       "│ https://www.linked ┆ Eiffage Metal ┆ 333916385 ┆ https://www.eiffa ┆ eiffage-metal     ┆ true    │\n",
       "│ in.com/company…    ┆               ┆           ┆ gemetal.com/      ┆                   ┆         │\n",
       "└────────────────────┴───────────────┴───────────┴───────────────────┴───────────────────┴─────────┘"
      ]
     },
     "execution_count": 100,
     "metadata": {},
     "output_type": "execute_result"
    }
   ],
   "source": [
    "df_results = compare_linkedin_ids(df_companies)\n",
    "df_results.tail()"
   ]
  },
  {
   "cell_type": "code",
   "execution_count": 101,
   "metadata": {},
   "outputs": [
    {
     "name": "stdout",
     "output_type": "stream",
     "text": [
      "('https://www.linkedin.com/company/sncf', 'SNCF', '552049447', 'http://www.sncf.com')\n",
      "('https://www.linkedin.com/company/alsapan', 'Alsapan', '392213146', 'http://www.alsapan.com')\n",
      "('https://www.linkedin.com/company/eiffage-metal', 'Eiffage Metal', '333916385', 'https://www.eiffagemetal.com/')\n"
     ]
    }
   ],
   "source": [
    "for i in df.rows()[114:]:\n",
    "    print(i)"
   ]
  },
  {
   "cell_type": "code",
   "execution_count": 102,
   "metadata": {},
   "outputs": [],
   "source": [
    "df_results.write_csv(\"./results/siren/batch_7.csv\")"
   ]
  },
  {
   "cell_type": "code",
   "execution_count": 108,
   "metadata": {},
   "outputs": [
    {
     "name": "stdout",
     "output_type": "stream",
     "text": [
      "shape: (117, 6)\n",
      "┌───────────────────┬──────────────────┬───────────┬──────────────────┬──────────────────┬─────────┐\n",
      "│ linkedin_url      ┆ input_name       ┆ siren     ┆ website          ┆ linkedin_id_foun ┆ success │\n",
      "│ ---               ┆ ---              ┆ ---       ┆ ---              ┆ d                ┆ ---     │\n",
      "│ str               ┆ str              ┆ i64       ┆ str              ┆ ---              ┆ bool    │\n",
      "│                   ┆                  ┆           ┆                  ┆ str              ┆         │\n",
      "╞═══════════════════╪══════════════════╪═══════════╪══════════════════╪══════════════════╪═════════╡\n",
      "│ https://www.linke ┆ FAURECIA CLEAN   ┆ 542005376 ┆ https://www.faur ┆ faurecia         ┆ true    │\n",
      "│ din.com/company…  ┆ MOBILITY         ┆           ┆ ecia.com/        ┆                  ┆         │\n",
      "│                   ┆ (groupe…         ┆           ┆                  ┆                  ┆         │\n",
      "│ https://www.linke ┆ PRYSMIAN GROUP   ┆ 95750311  ┆ https://fr.prysm ┆ null             ┆ false   │\n",
      "│ din.com/company…  ┆                  ┆           ┆ ian.com/         ┆                  ┆         │\n",
      "│ https://www.linke ┆ PETIT BATEAU     ┆ 845114214 ┆ https://www.peti ┆ null             ┆ false   │\n",
      "│ din.com/company…  ┆                  ┆           ┆ t-bateau.fr/     ┆                  ┆         │\n",
      "│ https://www.linke ┆ VALEO VISION     ┆ 950344333 ┆ https://www.vale ┆ null             ┆ false   │\n",
      "│ din.com/company…  ┆                  ┆           ┆ o.com/fr/        ┆                  ┆         │\n",
      "│ https://www.linke ┆ GRUPO ANTOLIN    ┆ 328358734 ┆ https://www.anto ┆ null             ┆ false   │\n",
      "│ din.com/company…  ┆ BESANCON         ┆           ┆ lin.com/         ┆                  ┆         │\n",
      "│ …                 ┆ …                ┆ …         ┆ …                ┆ …                ┆ …       │\n",
      "│ https://www.linke ┆ Suez             ┆ 775690035 ┆ http://www.suez. ┆ suez             ┆ true    │\n",
      "│ din.com/company…  ┆                  ┆           ┆ com              ┆                  ┆         │\n",
      "│ https://www.linke ┆ Amorce           ┆ 751372608 ┆ http://www.amorc ┆ null             ┆ false   │\n",
      "│ din.com/company…  ┆                  ┆           ┆ e.asso.fr        ┆                  ┆         │\n",
      "│ https://www.linke ┆ SNCF             ┆ 552049447 ┆ http://www.sncf. ┆ sncf-immobilier  ┆ false   │\n",
      "│ din.com/company…  ┆                  ┆           ┆ com              ┆                  ┆         │\n",
      "│ https://www.linke ┆ Alsapan          ┆ 392213146 ┆ http://www.alsap ┆ alsapan-industri ┆ false   │\n",
      "│ din.com/company…  ┆                  ┆           ┆ an.com           ┆ e                ┆         │\n",
      "│ https://www.linke ┆ Eiffage Metal    ┆ 333916385 ┆ https://www.eiff ┆ eiffage-metal    ┆ true    │\n",
      "│ din.com/company…  ┆                  ┆           ┆ agemetal.com/    ┆                  ┆         │\n",
      "└───────────────────┴──────────────────┴───────────┴──────────────────┴──────────────────┴─────────┘\n"
     ]
    }
   ],
   "source": [
    "df_results = pl.read_csv(FILE_RES)\n",
    "print(df_results)"
   ]
  },
  {
   "cell_type": "code",
   "execution_count": 111,
   "metadata": {},
   "outputs": [
    {
     "name": "stdout",
     "output_type": "stream",
     "text": [
      "68\n",
      "18\n"
     ]
    }
   ],
   "source": [
    "print(sum(1 for i in df_results.rows() if i[-1]))\n",
    "print(sum(1 for i in df_results.rows() if i[-2] is None))"
   ]
  },
  {
   "cell_type": "code",
   "execution_count": 112,
   "metadata": {},
   "outputs": [
    {
     "name": "stdout",
     "output_type": "stream",
     "text": [
      "58.119658119658126\n",
      "15.384615384615385\n"
     ]
    }
   ],
   "source": [
    "print(68/117*100)\n",
    "print(18/117*100)"
   ]
  }
 ],
 "metadata": {
  "kernelspec": {
   "display_name": "Python 3",
   "language": "python",
   "name": "python3"
  },
  "language_info": {
   "codemirror_mode": {
    "name": "ipython",
    "version": 3
   },
   "file_extension": ".py",
   "mimetype": "text/x-python",
   "name": "python",
   "nbconvert_exporter": "python",
   "pygments_lexer": "ipython3",
   "version": "3.10.11"
  }
 },
 "nbformat": 4,
 "nbformat_minor": 2
}
