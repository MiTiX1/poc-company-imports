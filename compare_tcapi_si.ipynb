{
 "cells": [
  {
   "cell_type": "code",
   "execution_count": 1,
   "metadata": {},
   "outputs": [],
   "source": [
    "import polars as pl"
   ]
  },
  {
   "cell_type": "code",
   "execution_count": 4,
   "metadata": {},
   "outputs": [],
   "source": [
    "FILE_SOCIETEINFO = \"./results/societeinfo_siren.csv\"\n",
    "FILE_TCAPI = \"./results/tcapi_aprex.csv\""
   ]
  },
  {
   "cell_type": "code",
   "execution_count": 5,
   "metadata": {},
   "outputs": [
    {
     "name": "stdout",
     "output_type": "stream",
     "text": [
      "shape: (117, 6)\n",
      "┌───────────────────┬──────────────────┬───────────┬──────────────────┬──────────────────┬─────────┐\n",
      "│ linkedin_url      ┆ input_name       ┆ siren     ┆ website          ┆ linkedin_id_foun ┆ success │\n",
      "│ ---               ┆ ---              ┆ ---       ┆ ---              ┆ d                ┆ ---     │\n",
      "│ str               ┆ str              ┆ i64       ┆ str              ┆ ---              ┆ bool    │\n",
      "│                   ┆                  ┆           ┆                  ┆ str              ┆         │\n",
      "╞═══════════════════╪══════════════════╪═══════════╪══════════════════╪══════════════════╪═════════╡\n",
      "│ https://www.linke ┆ FAURECIA CLEAN   ┆ 542005376 ┆ https://www.faur ┆ faurecia         ┆ true    │\n",
      "│ din.com/company…  ┆ MOBILITY         ┆           ┆ ecia.com/        ┆                  ┆         │\n",
      "│                   ┆ (groupe…         ┆           ┆                  ┆                  ┆         │\n",
      "│ https://www.linke ┆ PRYSMIAN GROUP   ┆ 95750311  ┆ https://fr.prysm ┆ null             ┆ false   │\n",
      "│ din.com/company…  ┆                  ┆           ┆ ian.com/         ┆                  ┆         │\n",
      "│ https://www.linke ┆ PETIT BATEAU     ┆ 845114214 ┆ https://www.peti ┆ null             ┆ false   │\n",
      "│ din.com/company…  ┆                  ┆           ┆ t-bateau.fr/     ┆                  ┆         │\n",
      "│ https://www.linke ┆ VALEO VISION     ┆ 950344333 ┆ https://www.vale ┆ null             ┆ false   │\n",
      "│ din.com/company…  ┆                  ┆           ┆ o.com/fr/        ┆                  ┆         │\n",
      "│ https://www.linke ┆ GRUPO ANTOLIN    ┆ 328358734 ┆ https://www.anto ┆ null             ┆ false   │\n",
      "│ din.com/company…  ┆ BESANCON         ┆           ┆ lin.com/         ┆                  ┆         │\n",
      "│ …                 ┆ …                ┆ …         ┆ …                ┆ …                ┆ …       │\n",
      "│ https://www.linke ┆ Suez             ┆ 775690035 ┆ http://www.suez. ┆ suez             ┆ true    │\n",
      "│ din.com/company…  ┆                  ┆           ┆ com              ┆                  ┆         │\n",
      "│ https://www.linke ┆ Amorce           ┆ 751372608 ┆ http://www.amorc ┆ null             ┆ false   │\n",
      "│ din.com/company…  ┆                  ┆           ┆ e.asso.fr        ┆                  ┆         │\n",
      "│ https://www.linke ┆ SNCF             ┆ 552049447 ┆ http://www.sncf. ┆ sncf-immobilier  ┆ false   │\n",
      "│ din.com/company…  ┆                  ┆           ┆ com              ┆                  ┆         │\n",
      "│ https://www.linke ┆ Alsapan          ┆ 392213146 ┆ http://www.alsap ┆ alsapan-industri ┆ false   │\n",
      "│ din.com/company…  ┆                  ┆           ┆ an.com           ┆ e                ┆         │\n",
      "│ https://www.linke ┆ Eiffage Metal    ┆ 333916385 ┆ https://www.eiff ┆ eiffage-metal    ┆ true    │\n",
      "│ din.com/company…  ┆                  ┆           ┆ agemetal.com/    ┆                  ┆         │\n",
      "└───────────────────┴──────────────────┴───────────┴──────────────────┴──────────────────┴─────────┘\n"
     ]
    }
   ],
   "source": [
    "df_societeinfo = pl.read_csv(FILE_SOCIETEINFO)\n",
    "print(df_societeinfo)"
   ]
  },
  {
   "cell_type": "code",
   "execution_count": 6,
   "metadata": {},
   "outputs": [
    {
     "name": "stdout",
     "output_type": "stream",
     "text": [
      "shape: (130, 6)\n",
      "┌─────────────────┬─────────────────┬─────────────────┬─────────────────┬────────────────┬─────────┐\n",
      "│ linkedin_url    ┆ input_name      ┆ website         ┆ domain          ┆ linkedin_id_fo ┆ success │\n",
      "│ ---             ┆ ---             ┆ ---             ┆ ---             ┆ und            ┆ ---     │\n",
      "│ str             ┆ str             ┆ str             ┆ str             ┆ ---            ┆ bool    │\n",
      "│                 ┆                 ┆                 ┆                 ┆ str            ┆         │\n",
      "╞═════════════════╪═════════════════╪═════════════════╪═════════════════╪════════════════╪═════════╡\n",
      "│ https://www.lin ┆ Innothera       ┆ https://www.inn ┆ innothera.fr    ┆ null           ┆ false   │\n",
      "│ kedin.com/compa ┆                 ┆ othera.fr/fr/   ┆                 ┆                ┆         │\n",
      "│ ny…             ┆                 ┆                 ┆                 ┆                ┆         │\n",
      "│ https://www.lin ┆ SOLOCAP-MAB     ┆ https://www.mai ┆ maisonmelanmout ┆ maisonmélanmou ┆ false   │\n",
      "│ kedin.com/compa ┆                 ┆ sonmelanmoutet. ┆ et.com          ┆ tet            ┆         │\n",
      "│ ny…             ┆                 ┆ co…             ┆                 ┆                ┆         │\n",
      "│ https://www.lin ┆ VALEO VISION    ┆ https://www.val ┆ valeo.com       ┆ valeo          ┆ true    │\n",
      "│ kedin.com/compa ┆                 ┆ eo.com/fr/      ┆                 ┆                ┆         │\n",
      "│ ny…             ┆                 ┆                 ┆                 ┆                ┆         │\n",
      "│ https://www.lin ┆ PETIT BATEAU    ┆ https://www.pet ┆ petit-bateau.fr ┆ le-petit-batea ┆ false   │\n",
      "│ kedin.com/compa ┆                 ┆ it-bateau.fr/   ┆                 ┆ u              ┆         │\n",
      "│ ny…             ┆                 ┆                 ┆                 ┆                ┆         │\n",
      "│ https://www.lin ┆ SAM SOCIETE DES ┆ https://www.riv ┆ rivaacier.com   ┆ null           ┆ false   │\n",
      "│ kedin.com/compa ┆ ACIERS          ┆ aacier.com/fr/  ┆                 ┆                ┆         │\n",
      "│ ny…             ┆ D'ARMATUR…      ┆                 ┆                 ┆                ┆         │\n",
      "│ …               ┆ …               ┆ …               ┆ …               ┆ …              ┆ …       │\n",
      "│ https://www.lin ┆ Mercedes-Benz   ┆ http://www.merc ┆ mercedes-benz.c ┆ mercedes-benz- ┆ false   │\n",
      "│ kedin.com/compa ┆                 ┆ edes-benz.com/  ┆ om              ┆ algerie        ┆         │\n",
      "│ ny…             ┆                 ┆                 ┆                 ┆                ┆         │\n",
      "│ https://www.lin ┆ Hermès          ┆ http://www.herm ┆ hermes.com      ┆ la-montre-herm ┆ false   │\n",
      "│ kedin.com/compa ┆                 ┆ es.com/employeu ┆                 ┆ es-sa          ┆         │\n",
      "│ ny…             ┆                 ┆ r               ┆                 ┆                ┆         │\n",
      "│ https://www.lin ┆ Asteelflash     ┆ http://www.aste ┆ asteelflash.com ┆ asteelflash    ┆ true    │\n",
      "│ kedin.com/compa ┆                 ┆ elflash.com     ┆                 ┆                ┆         │\n",
      "│ ny…             ┆                 ┆                 ┆                 ┆                ┆         │\n",
      "│ https://www.lin ┆ GE Healthcare   ┆ http://www.gehe ┆ gehealthcare.co ┆ gehealthcare   ┆ true    │\n",
      "│ kedin.com/compa ┆                 ┆ althcare.com    ┆ m               ┆                ┆         │\n",
      "│ ny…             ┆                 ┆                 ┆                 ┆                ┆         │\n",
      "│ https://www.lin ┆ RD VISION       ┆ https://rd-visi ┆ rd-vision.com   ┆ r&d-vision     ┆ true    │\n",
      "│ kedin.com/compa ┆                 ┆ on.com/         ┆                 ┆                ┆         │\n",
      "│ ny…             ┆                 ┆                 ┆                 ┆                ┆         │\n",
      "└─────────────────┴─────────────────┴─────────────────┴─────────────────┴────────────────┴─────────┘\n"
     ]
    }
   ],
   "source": [
    "df_tcapi = pl.read_csv(FILE_TCAPI)\n",
    "print(df_tcapi)"
   ]
  },
  {
   "cell_type": "code",
   "execution_count": 8,
   "metadata": {},
   "outputs": [
    {
     "data": {
      "text/html": [
       "<div><style>\n",
       ".dataframe > thead > tr,\n",
       ".dataframe > tbody > tr {\n",
       "  text-align: right;\n",
       "  white-space: pre-wrap;\n",
       "}\n",
       "</style>\n",
       "<small>shape: (72, 11)</small><table border=\"1\" class=\"dataframe\"><thead><tr><th>linkedin_url</th><th>input_name</th><th>siren</th><th>website</th><th>linkedin_id_found</th><th>success</th><th>input_name_right</th><th>website_right</th><th>domain</th><th>linkedin_id_found_right</th><th>success_right</th></tr><tr><td>str</td><td>str</td><td>i64</td><td>str</td><td>str</td><td>bool</td><td>str</td><td>str</td><td>str</td><td>str</td><td>bool</td></tr></thead><tbody><tr><td>&quot;https://www.li…</td><td>&quot;SOLOCAP-MAB&quot;</td><td>826250078</td><td>&quot;https://www.ma…</td><td>null</td><td>false</td><td>&quot;SOLOCAP-MAB&quot;</td><td>&quot;https://www.ma…</td><td>&quot;maisonmelanmou…</td><td>&quot;maisonmélanmou…</td><td>false</td></tr><tr><td>&quot;https://www.li…</td><td>&quot;VALEO VISION&quot;</td><td>950344333</td><td>&quot;https://www.va…</td><td>null</td><td>false</td><td>&quot;VALEO VISION&quot;</td><td>&quot;https://www.va…</td><td>&quot;valeo.com&quot;</td><td>&quot;valeo&quot;</td><td>true</td></tr><tr><td>&quot;https://www.li…</td><td>&quot;PETIT BATEAU&quot;</td><td>845114214</td><td>&quot;https://www.pe…</td><td>null</td><td>false</td><td>&quot;PETIT BATEAU&quot;</td><td>&quot;https://www.pe…</td><td>&quot;petit-bateau.f…</td><td>&quot;le-petit-batea…</td><td>false</td></tr><tr><td>&quot;https://www.li…</td><td>&quot;SAM SOCIETE DE…</td><td>389517061</td><td>&quot;https://www.ri…</td><td>null</td><td>false</td><td>&quot;SAM SOCIETE DE…</td><td>&quot;https://www.ri…</td><td>&quot;rivaacier.com&quot;</td><td>null</td><td>false</td></tr><tr><td>&quot;https://www.li…</td><td>&quot;LISI AUTOMOTIV…</td><td>433709953</td><td>&quot;https://www.li…</td><td>&quot;lisi-automotiv…</td><td>true</td><td>&quot;LISI AUTOMOTIV…</td><td>&quot;https://www.li…</td><td>&quot;lisi-automotiv…</td><td>&quot;lisi-automotiv…</td><td>true</td></tr><tr><td>&hellip;</td><td>&hellip;</td><td>&hellip;</td><td>&hellip;</td><td>&hellip;</td><td>&hellip;</td><td>&hellip;</td><td>&hellip;</td><td>&hellip;</td><td>&hellip;</td><td>&hellip;</td></tr><tr><td>&quot;https://www.li…</td><td>&quot;Longchamp&quot;</td><td>737050187</td><td>&quot;http://www.lon…</td><td>&quot;longchamp&quot;</td><td>true</td><td>&quot;Longchamp&quot;</td><td>&quot;http://www.lon…</td><td>&quot;longchamp.com&quot;</td><td>&quot;longchamp&quot;</td><td>true</td></tr><tr><td>&quot;https://www.li…</td><td>&quot;Lacoste&quot;</td><td>307258301</td><td>&quot;https://corpor…</td><td>&quot;lacoste&quot;</td><td>true</td><td>&quot;Lacoste&quot;</td><td>&quot;https://corpor…</td><td>&quot;lacoste.com&quot;</td><td>&quot;lacoste&quot;</td><td>true</td></tr><tr><td>&quot;https://www.li…</td><td>&quot;Sodebo&quot;</td><td>547350249</td><td>&quot;https://www.so…</td><td>&quot;sodebo&quot;</td><td>true</td><td>&quot;Sodebo&quot;</td><td>&quot;https://www.so…</td><td>&quot;sodebo.com&quot;</td><td>&quot;sodeb&quot;</td><td>false</td></tr><tr><td>&quot;https://www.li…</td><td>&quot;HermÃ¨s&quot;</td><td>572076396</td><td>&quot;http://www.her…</td><td>&quot;hermes-group&quot;</td><td>true</td><td>&quot;Hermès&quot;</td><td>&quot;http://www.her…</td><td>&quot;hermes.com&quot;</td><td>&quot;la-montre-herm…</td><td>false</td></tr><tr><td>&quot;https://www.li…</td><td>&quot;Asteelflash&quot;</td><td>421842188</td><td>&quot;http://www.ast…</td><td>&quot;asteelflash&quot;</td><td>true</td><td>&quot;Asteelflash&quot;</td><td>&quot;http://www.ast…</td><td>&quot;asteelflash.co…</td><td>&quot;asteelflash&quot;</td><td>true</td></tr></tbody></table></div>"
      ],
      "text/plain": [
       "shape: (72, 11)\n",
       "┌───────────┬───────────┬───────────┬───────────┬───┬───────────┬───────────┬───────────┬──────────┐\n",
       "│ linkedin_ ┆ input_nam ┆ siren     ┆ website   ┆ … ┆ website_r ┆ domain    ┆ linkedin_ ┆ success_ │\n",
       "│ url       ┆ e         ┆ ---       ┆ ---       ┆   ┆ ight      ┆ ---       ┆ id_found_ ┆ right    │\n",
       "│ ---       ┆ ---       ┆ i64       ┆ str       ┆   ┆ ---       ┆ str       ┆ right     ┆ ---      │\n",
       "│ str       ┆ str       ┆           ┆           ┆   ┆ str       ┆           ┆ ---       ┆ bool     │\n",
       "│           ┆           ┆           ┆           ┆   ┆           ┆           ┆ str       ┆          │\n",
       "╞═══════════╪═══════════╪═══════════╪═══════════╪═══╪═══════════╪═══════════╪═══════════╪══════════╡\n",
       "│ https://w ┆ SOLOCAP-M ┆ 826250078 ┆ https://w ┆ … ┆ https://w ┆ maisonmel ┆ maisonmél ┆ false    │\n",
       "│ ww.linked ┆ AB        ┆           ┆ ww.maison ┆   ┆ ww.maison ┆ anmoutet. ┆ anmoutet  ┆          │\n",
       "│ in.com/co ┆           ┆           ┆ melanmout ┆   ┆ melanmout ┆ com       ┆           ┆          │\n",
       "│ mpany…    ┆           ┆           ┆ et.co…    ┆   ┆ et.co…    ┆           ┆           ┆          │\n",
       "│ https://w ┆ VALEO     ┆ 950344333 ┆ https://w ┆ … ┆ https://w ┆ valeo.com ┆ valeo     ┆ true     │\n",
       "│ ww.linked ┆ VISION    ┆           ┆ ww.valeo. ┆   ┆ ww.valeo. ┆           ┆           ┆          │\n",
       "│ in.com/co ┆           ┆           ┆ com/fr/   ┆   ┆ com/fr/   ┆           ┆           ┆          │\n",
       "│ mpany…    ┆           ┆           ┆           ┆   ┆           ┆           ┆           ┆          │\n",
       "│ https://w ┆ PETIT     ┆ 845114214 ┆ https://w ┆ … ┆ https://w ┆ petit-bat ┆ le-petit- ┆ false    │\n",
       "│ ww.linked ┆ BATEAU    ┆           ┆ ww.petit- ┆   ┆ ww.petit- ┆ eau.fr    ┆ bateau    ┆          │\n",
       "│ in.com/co ┆           ┆           ┆ bateau.fr ┆   ┆ bateau.fr ┆           ┆           ┆          │\n",
       "│ mpany…    ┆           ┆           ┆ /         ┆   ┆ /         ┆           ┆           ┆          │\n",
       "│ https://w ┆ SAM       ┆ 389517061 ┆ https://w ┆ … ┆ https://w ┆ rivaacier ┆ null      ┆ false    │\n",
       "│ ww.linked ┆ SOCIETE   ┆           ┆ ww.rivaac ┆   ┆ ww.rivaac ┆ .com      ┆           ┆          │\n",
       "│ in.com/co ┆ DES       ┆           ┆ ier.com/f ┆   ┆ ier.com/f ┆           ┆           ┆          │\n",
       "│ mpany…    ┆ ACIERS    ┆           ┆ r/        ┆   ┆ r/        ┆           ┆           ┆          │\n",
       "│           ┆ D'ARMATUR ┆           ┆           ┆   ┆           ┆           ┆           ┆          │\n",
       "│           ┆ …         ┆           ┆           ┆   ┆           ┆           ┆           ┆          │\n",
       "│ https://w ┆ LISI AUTO ┆ 433709953 ┆ https://w ┆ … ┆ https://w ┆ lisi-auto ┆ lisi-auto ┆ true     │\n",
       "│ ww.linked ┆ MOTIVE    ┆           ┆ ww.lisi-a ┆   ┆ ww.lisi-a ┆ motive.co ┆ motive    ┆          │\n",
       "│ in.com/co ┆ DELLE     ┆           ┆ utomotive ┆   ┆ utomotive ┆ m         ┆           ┆          │\n",
       "│ mpany…    ┆           ┆           ┆ .com/…    ┆   ┆ .com/…    ┆           ┆           ┆          │\n",
       "│ …         ┆ …         ┆ …         ┆ …         ┆ … ┆ …         ┆ …         ┆ …         ┆ …        │\n",
       "│ https://w ┆ Longchamp ┆ 737050187 ┆ http://ww ┆ … ┆ http://ww ┆ longchamp ┆ longchamp ┆ true     │\n",
       "│ ww.linked ┆           ┆           ┆ w.longcha ┆   ┆ w.longcha ┆ .com      ┆           ┆          │\n",
       "│ in.com/co ┆           ┆           ┆ mp.com    ┆   ┆ mp.com    ┆           ┆           ┆          │\n",
       "│ mpany…    ┆           ┆           ┆           ┆   ┆           ┆           ┆           ┆          │\n",
       "│ https://w ┆ Lacoste   ┆ 307258301 ┆ https://c ┆ … ┆ https://c ┆ lacoste.c ┆ lacoste   ┆ true     │\n",
       "│ ww.linked ┆           ┆           ┆ orporate. ┆   ┆ orporate. ┆ om        ┆           ┆          │\n",
       "│ in.com/co ┆           ┆           ┆ lacoste.c ┆   ┆ lacoste.c ┆           ┆           ┆          │\n",
       "│ mpany…    ┆           ┆           ┆ om/       ┆   ┆ om/       ┆           ┆           ┆          │\n",
       "│ https://w ┆ Sodebo    ┆ 547350249 ┆ https://w ┆ … ┆ https://w ┆ sodebo.co ┆ sodeb     ┆ false    │\n",
       "│ ww.linked ┆           ┆           ┆ ww.sodebo ┆   ┆ ww.sodebo ┆ m         ┆           ┆          │\n",
       "│ in.com/co ┆           ┆           ┆ .com/espa ┆   ┆ .com/espa ┆           ┆           ┆          │\n",
       "│ mpany…    ┆           ┆           ┆ ce-re…    ┆   ┆ ce-re…    ┆           ┆           ┆          │\n",
       "│ https://w ┆ HermÃ¨s   ┆ 572076396 ┆ http://ww ┆ … ┆ http://ww ┆ hermes.co ┆ la-montre ┆ false    │\n",
       "│ ww.linked ┆           ┆           ┆ w.hermes. ┆   ┆ w.hermes. ┆ m         ┆ -hermes-s ┆          │\n",
       "│ in.com/co ┆           ┆           ┆ com/emplo ┆   ┆ com/emplo ┆           ┆ a         ┆          │\n",
       "│ mpany…    ┆           ┆           ┆ yeur      ┆   ┆ yeur      ┆           ┆           ┆          │\n",
       "│ https://w ┆ Asteelfla ┆ 421842188 ┆ http://ww ┆ … ┆ http://ww ┆ asteelfla ┆ asteelfla ┆ true     │\n",
       "│ ww.linked ┆ sh        ┆           ┆ w.asteelf ┆   ┆ w.asteelf ┆ sh.com    ┆ sh        ┆          │\n",
       "│ in.com/co ┆           ┆           ┆ lash.com  ┆   ┆ lash.com  ┆           ┆           ┆          │\n",
       "│ mpany…    ┆           ┆           ┆           ┆   ┆           ┆           ┆           ┆          │\n",
       "└───────────┴───────────┴───────────┴───────────┴───┴───────────┴───────────┴───────────┴──────────┘"
      ]
     },
     "execution_count": 8,
     "metadata": {},
     "output_type": "execute_result"
    }
   ],
   "source": [
    "df_merged = df_societeinfo.join(df_tcapi, on=\"linkedin_url\", how=\"inner\")\n",
    "df_merged"
   ]
  },
  {
   "cell_type": "code",
   "execution_count": 10,
   "metadata": {},
   "outputs": [
    {
     "name": "stdout",
     "output_type": "stream",
     "text": [
      "42\n",
      "8\n",
      "22\n"
     ]
    }
   ],
   "source": [
    "print(sum(1 for i in df_merged.rows(named=True) if i.get(\"success\") == i.get(\"success_right\")))\n",
    "print(sum(1 for i in df_merged.rows(named=True) if i.get(\"success\") and not i.get(\"success_right\")))\n",
    "print(sum(1 for i in df_merged.rows(named=True) if not i.get(\"success\") and i.get(\"success_right\")))"
   ]
  }
 ],
 "metadata": {
  "kernelspec": {
   "display_name": "Python 3",
   "language": "python",
   "name": "python3"
  },
  "language_info": {
   "codemirror_mode": {
    "name": "ipython",
    "version": 3
   },
   "file_extension": ".py",
   "mimetype": "text/x-python",
   "name": "python",
   "nbconvert_exporter": "python",
   "pygments_lexer": "ipython3",
   "version": "3.10.11"
  }
 },
 "nbformat": 4,
 "nbformat_minor": 2
}
